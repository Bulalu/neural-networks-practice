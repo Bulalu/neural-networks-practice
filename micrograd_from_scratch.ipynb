{
 "cells": [
  {
   "cell_type": "code",
   "execution_count": 2,
   "metadata": {},
   "outputs": [],
   "source": [
    "import math\n",
    "import numpy as np\n",
    "import matplotlib.pyplot as plt\n",
    "%matplotlib inline"
   ]
  },
  {
   "cell_type": "code",
   "execution_count": 3,
   "metadata": {},
   "outputs": [],
   "source": [
    "def f(x):\n",
    "    return 3*x**2 -4*x + 6"
   ]
  },
  {
   "cell_type": "code",
   "execution_count": 4,
   "metadata": {},
   "outputs": [
    {
     "data": {
      "text/plain": [
       "38"
      ]
     },
     "execution_count": 4,
     "metadata": {},
     "output_type": "execute_result"
    }
   ],
   "source": [
    "f(4)"
   ]
  },
  {
   "cell_type": "code",
   "execution_count": 12,
   "metadata": {},
   "outputs": [
    {
     "data": {
      "text/plain": [
       "[<matplotlib.lines.Line2D at 0x11f902170>]"
      ]
     },
     "execution_count": 12,
     "metadata": {},
     "output_type": "execute_result"
    },
    {
     "data": {
      "image/png": "[encoded data removed]",
      "text/plain": [
       "<Figure size 640x480 with 1 Axes>"
      ]
     },
     "metadata": {},
     "output_type": "display_data"
    }
   ],
   "source": [
    "xs = np.arange(-5, 5, 0.3)\n",
    "ys = f(xs)\n",
    "plt.plot(xs, ys)"
   ]
  },
  {
   "cell_type": "code",
   "execution_count": 13,
   "metadata": {},
   "outputs": [
    {
     "data": {
      "text/plain": [
       "4.0"
      ]
     },
     "execution_count": 13,
     "metadata": {},
     "output_type": "execute_result"
    }
   ],
   "source": [
    "a = 2.0\n",
    "b = -3.0\n",
    "c = 10.0\n",
    "d = a * b + c\n",
    "d"
   ]
  },
  {
   "cell_type": "code",
   "execution_count": 16,
   "metadata": {},
   "outputs": [
    {
     "name": "stdout",
     "output_type": "stream",
     "text": [
      "d1 4.0\n",
      "d2 3.999699999999999\n",
      "slope -3.000000000010772\n"
     ]
    }
   ],
   "source": [
    "h = 0.0001\n",
    "\n",
    "#inputs\n",
    "a = 2.0\n",
    "b = -3.0 \n",
    "c = 10.0\n",
    "\n",
    "d1 = a * b + c\n",
    "a += h\n",
    "d2 = a * b + c\n",
    " \n",
    "da = (d2 - d1) / h\n",
    "print(\"d1\", d1)\n",
    "print(\"d2\", d2)\n",
    "print(\"slope\", da)"
   ]
  },
  {
   "cell_type": "code",
   "execution_count": 44,
   "metadata": {},
   "outputs": [
    {
     "data": {
      "text/plain": [
       "Value(data=-8.0)"
      ]
     },
     "execution_count": 44,
     "metadata": {},
     "output_type": "execute_result"
    }
   ],
   "source": [
    "class Value:\n",
    "    def __init__(self, data, _children=(), _op='', label = ''):\n",
    "        self.data = data\n",
    "        self._prev = set(_children)\n",
    "        self._op = _op\n",
    "        self.label = label\n",
    "    \n",
    "    def __repr__(self):\n",
    "        return f\"Value(data={self.data})\"\n",
    "    \n",
    "    def __add__(self, other):\n",
    "        return Value(self.data + other.data, (self, other), '+')\n",
    "    \n",
    "    def __mul__(self, other):\n",
    "        return Value(self.data * other.data, (self, other), '*')    \n",
    "\n",
    "a = Value(2.0, label='a')\n",
    "b = Value(-3.0, label='b')\n",
    "c =Value(10.0, label='c')\n",
    "e = a * b; e.label = 'e'\n",
    "d = e + c; d.label = 'd'\n",
    "\n",
    "d = a * b + c\n",
    "f = Value(-2.0, label='f')\n",
    "L = d * f; L.label = 'L'\n",
    "L"
   ]
  },
  {
   "cell_type": "code",
   "execution_count": 40,
   "metadata": {},
   "outputs": [
    {
     "data": {
      "text/plain": [
       "{Value(data=-6.0), Value(data=10.0)}"
      ]
     },
     "execution_count": 40,
     "metadata": {},
     "output_type": "execute_result"
    }
   ],
   "source": [
    "d._prev\n"
   ]
  },
  {
   "cell_type": "code",
   "execution_count": 41,
   "metadata": {},
   "outputs": [
    {
     "data": {
      "text/plain": [
       "'+'"
      ]
     },
     "execution_count": 41,
     "metadata": {},
     "output_type": "execute_result"
    }
   ],
   "source": [
    "d._op"
   ]
  },
  {
   "cell_type": "code",
   "execution_count": 48,
   "metadata": {},
   "outputs": [],
   "source": [
    "from graphviz import Digraph\n",
    "\n",
    "def trace(root):\n",
    "  # builds a set of all nodes and edges in a graph\n",
    "  nodes, edges = set(), set()\n",
    "  def build(v):\n",
    "    if v not in nodes:\n",
    "      nodes.add(v)\n",
    "      for child in v._prev:\n",
    "        edges.add((child, v))\n",
    "        build(child)\n",
    "  build(root)\n",
    "  return nodes, edges\n",
    "\n",
    "def draw_dot(root):\n",
    "  dot = Digraph(format='svg', graph_attr={'rankdir': 'LR'}) # LR = left to right\n",
    "  \n",
    "  nodes, edges = trace(root)\n",
    "  for n in nodes:\n",
    "    uid = str(id(n))\n",
    "    # for any value in the graph, create a rectangular ('record') node for it\n",
    "    dot.node(name = uid, label = \"{ %s | data %.4f }\" % (n.label, n.data ), shape='record')\n",
    "    if n._op:\n",
    "      # if this value is a result of some operation, create an op node for it\n",
    "      dot.node(name = uid + n._op, label = n._op)\n",
    "      # and connect this node to it\n",
    "      dot.edge(uid + n._op, uid)\n",
    "\n",
    "  for n1, n2 in edges:\n",
    "    # connect n1 to the op node of n2\n",
    "    dot.edge(str(id(n1)), str(id(n2)) + n2._op)\n",
    "\n",
    "  return dot"
   ]
  },
  {
   "cell_type": "code",
   "execution_count": 49,
   "metadata": {},
   "outputs": [
    {
     "data": {
      "image/svg+xml": [
       "<?xml version=\"1.0\" encoding=\"UTF-8\" standalone=\"no\"?>\n",
       "<!DOCTYPE svg PUBLIC \"-//W3C//DTD SVG 1.1//EN\"\n",
       " \"http://www.w3.org/Graphics/SVG/1.1/DTD/svg11.dtd\">\n",
       "<!-- Generated by graphviz version 8.0.5 (20230430.1635)\n",
       " -->\n",
       "<!-- Pages: 1 -->\n",
       "<svg width=\"815pt\" height=\"156pt\"\n",
       " viewBox=\"0.00 0.00 814.75 156.00\" xmlns=\"http://www.w3.org/2000/svg\" xmlns:xlink=\"http://www.w3.org/1999/xlink\">\n",
       "<g id=\"graph0\" class=\"graph\" transform=\"scale(1 1) rotate(0) translate(4 152)\">\n",
       "<polygon fill=\"white\" stroke=\"none\" points=\"-4,4 -4,-152 810.75,-152 810.75,4 -4,4\"/>\n",
       "<!-- 4828814912 -->\n",
       "<g id=\"node1\" class=\"node\">\n",
       "<title>4828814912</title>\n",
       "<polygon fill=\"none\" stroke=\"black\" points=\"0,-111.5 0,-147.5 107,-147.5 107,-111.5 0,-111.5\"/>\n",
       "<text text-anchor=\"middle\" x=\"11.38\" y=\"-124.7\" font-family=\"Times,serif\" font-size=\"14.00\">b</text>\n",
       "<polyline fill=\"none\" stroke=\"black\" points=\"22.75,-112 22.75,-147.5\"/>\n",
       "<text text-anchor=\"middle\" x=\"64.88\" y=\"-124.7\" font-family=\"Times,serif\" font-size=\"14.00\">data &#45;3.0000</text>\n",
       "</g>\n",
       "<!-- 4828819808* -->\n",
       "<g id=\"node9\" class=\"node\">\n",
       "<title>4828819808*</title>\n",
       "<ellipse fill=\"none\" stroke=\"black\" cx=\"170\" cy=\"-101.5\" rx=\"27\" ry=\"18\"/>\n",
       "<text text-anchor=\"middle\" x=\"170\" y=\"-96.45\" font-family=\"Times,serif\" font-size=\"14.00\">*</text>\n",
       "</g>\n",
       "<!-- 4828814912&#45;&gt;4828819808* -->\n",
       "<g id=\"edge8\" class=\"edge\">\n",
       "<title>4828814912&#45;&gt;4828819808*</title>\n",
       "<path fill=\"none\" stroke=\"black\" d=\"M106.72,-116.73C115.83,-114.5 125.1,-112.23 133.62,-110.15\"/>\n",
       "<polygon fill=\"black\" stroke=\"black\" points=\"134.41,-113.32 143.3,-107.54 132.75,-106.52 134.41,-113.32\"/>\n",
       "</g>\n",
       "<!-- 4824713824 -->\n",
       "<g id=\"node2\" class=\"node\">\n",
       "<title>4824713824</title>\n",
       "<polygon fill=\"none\" stroke=\"black\" points=\"2.62,-56.5 2.62,-92.5 104.38,-92.5 104.38,-56.5 2.62,-56.5\"/>\n",
       "<text text-anchor=\"middle\" x=\"13.62\" y=\"-69.7\" font-family=\"Times,serif\" font-size=\"14.00\">a</text>\n",
       "<polyline fill=\"none\" stroke=\"black\" points=\"24.62,-57 24.62,-92.5\"/>\n",
       "<text text-anchor=\"middle\" x=\"64.5\" y=\"-69.7\" font-family=\"Times,serif\" font-size=\"14.00\">data 2.0000</text>\n",
       "</g>\n",
       "<!-- 4824713824&#45;&gt;4828819808* -->\n",
       "<g id=\"edge7\" class=\"edge\">\n",
       "<title>4824713824&#45;&gt;4828819808*</title>\n",
       "<path fill=\"none\" stroke=\"black\" d=\"M104.06,-86.19C113.96,-88.52 124.18,-90.93 133.49,-93.13\"/>\n",
       "<polygon fill=\"black\" stroke=\"black\" points=\"132.4,-96.7 142.94,-95.59 134.01,-89.89 132.4,-96.7\"/>\n",
       "</g>\n",
       "<!-- 4824819376 -->\n",
       "<g id=\"node3\" class=\"node\">\n",
       "<title>4824819376</title>\n",
       "<polygon fill=\"none\" stroke=\"black\" points=\"698.25,-27.5 698.25,-63.5 806.75,-63.5 806.75,-27.5 698.25,-27.5\"/>\n",
       "<text text-anchor=\"middle\" x=\"710.38\" y=\"-40.7\" font-family=\"Times,serif\" font-size=\"14.00\">L</text>\n",
       "<polyline fill=\"none\" stroke=\"black\" points=\"722.5,-28 722.5,-63.5\"/>\n",
       "<text text-anchor=\"middle\" x=\"764.62\" y=\"-40.7\" font-family=\"Times,serif\" font-size=\"14.00\">data &#45;8.0000</text>\n",
       "</g>\n",
       "<!-- 4824819376* -->\n",
       "<g id=\"node4\" class=\"node\">\n",
       "<title>4824819376*</title>\n",
       "<ellipse fill=\"none\" stroke=\"black\" cx=\"635.25\" cy=\"-45.5\" rx=\"27\" ry=\"18\"/>\n",
       "<text text-anchor=\"middle\" x=\"635.25\" y=\"-40.45\" font-family=\"Times,serif\" font-size=\"14.00\">*</text>\n",
       "</g>\n",
       "<!-- 4824819376*&#45;&gt;4824819376 -->\n",
       "<g id=\"edge1\" class=\"edge\">\n",
       "<title>4824819376*&#45;&gt;4824819376</title>\n",
       "<path fill=\"none\" stroke=\"black\" d=\"M662.69,-45.5C670.25,-45.5 678.83,-45.5 687.61,-45.5\"/>\n",
       "<polygon fill=\"black\" stroke=\"black\" points=\"687.37,-49 697.37,-45.5 687.37,-42 687.37,-49\"/>\n",
       "</g>\n",
       "<!-- 4828822304 -->\n",
       "<g id=\"node5\" class=\"node\">\n",
       "<title>4828822304</title>\n",
       "<polygon fill=\"none\" stroke=\"black\" points=\"470.12,-55.5 470.12,-91.5 569.62,-91.5 569.62,-55.5 470.12,-55.5\"/>\n",
       "<text text-anchor=\"middle\" x=\"480\" y=\"-68.7\" font-family=\"Times,serif\" font-size=\"14.00\"> </text>\n",
       "<polyline fill=\"none\" stroke=\"black\" points=\"489.88,-56 489.88,-91.5\"/>\n",
       "<text text-anchor=\"middle\" x=\"529.75\" y=\"-68.7\" font-family=\"Times,serif\" font-size=\"14.00\">data 4.0000</text>\n",
       "</g>\n",
       "<!-- 4828822304&#45;&gt;4824819376* -->\n",
       "<g id=\"edge4\" class=\"edge\">\n",
       "<title>4828822304&#45;&gt;4824819376*</title>\n",
       "<path fill=\"none\" stroke=\"black\" d=\"M569.61,-61.46C579.54,-59.01 589.79,-56.48 599.12,-54.17\"/>\n",
       "<polygon fill=\"black\" stroke=\"black\" points=\"599.72,-57.39 608.59,-51.59 598.04,-50.59 599.72,-57.39\"/>\n",
       "</g>\n",
       "<!-- 4828822304+ -->\n",
       "<g id=\"node6\" class=\"node\">\n",
       "<title>4828822304+</title>\n",
       "<ellipse fill=\"none\" stroke=\"black\" cx=\"404.5\" cy=\"-73.5\" rx=\"27\" ry=\"18\"/>\n",
       "<text text-anchor=\"middle\" x=\"404.5\" y=\"-68.45\" font-family=\"Times,serif\" font-size=\"14.00\">+</text>\n",
       "</g>\n",
       "<!-- 4828822304+&#45;&gt;4828822304 -->\n",
       "<g id=\"edge2\" class=\"edge\">\n",
       "<title>4828822304+&#45;&gt;4828822304</title>\n",
       "<path fill=\"none\" stroke=\"black\" d=\"M431.8,-73.5C440.16,-73.5 449.78,-73.5 459.5,-73.5\"/>\n",
       "<polygon fill=\"black\" stroke=\"black\" points=\"459.46,-77 469.46,-73.5 459.46,-70 459.46,-77\"/>\n",
       "</g>\n",
       "<!-- 4828813616 -->\n",
       "<g id=\"node7\" class=\"node\">\n",
       "<title>4828813616</title>\n",
       "<polygon fill=\"none\" stroke=\"black\" points=\"233,-28.5 233,-64.5 341.5,-64.5 341.5,-28.5 233,-28.5\"/>\n",
       "<text text-anchor=\"middle\" x=\"244\" y=\"-41.7\" font-family=\"Times,serif\" font-size=\"14.00\">c</text>\n",
       "<polyline fill=\"none\" stroke=\"black\" points=\"255,-29 255,-64.5\"/>\n",
       "<text text-anchor=\"middle\" x=\"298.25\" y=\"-41.7\" font-family=\"Times,serif\" font-size=\"14.00\">data 10.0000</text>\n",
       "</g>\n",
       "<!-- 4828813616&#45;&gt;4828822304+ -->\n",
       "<g id=\"edge5\" class=\"edge\">\n",
       "<title>4828813616&#45;&gt;4828822304+</title>\n",
       "<path fill=\"none\" stroke=\"black\" d=\"M341.49,-58.97C350.51,-61.09 359.68,-63.23 368.1,-65.21\"/>\n",
       "<polygon fill=\"black\" stroke=\"black\" points=\"367.12,-68.81 377.66,-67.68 368.72,-61.99 367.12,-68.81\"/>\n",
       "</g>\n",
       "<!-- 4828819808 -->\n",
       "<g id=\"node8\" class=\"node\">\n",
       "<title>4828819808</title>\n",
       "<polygon fill=\"none\" stroke=\"black\" points=\"235.25,-83.5 235.25,-119.5 339.25,-119.5 339.25,-83.5 235.25,-83.5\"/>\n",
       "<text text-anchor=\"middle\" x=\"245.12\" y=\"-96.7\" font-family=\"Times,serif\" font-size=\"14.00\"> </text>\n",
       "<polyline fill=\"none\" stroke=\"black\" points=\"255,-84 255,-119.5\"/>\n",
       "<text text-anchor=\"middle\" x=\"297.12\" y=\"-96.7\" font-family=\"Times,serif\" font-size=\"14.00\">data &#45;6.0000</text>\n",
       "</g>\n",
       "<!-- 4828819808&#45;&gt;4828822304+ -->\n",
       "<g id=\"edge6\" class=\"edge\">\n",
       "<title>4828819808&#45;&gt;4828822304+</title>\n",
       "<path fill=\"none\" stroke=\"black\" d=\"M339.14,-89.14C348.91,-86.76 358.95,-84.32 368.1,-82.1\"/>\n",
       "<polygon fill=\"black\" stroke=\"black\" points=\"368.86,-85.28 377.75,-79.51 367.21,-78.47 368.86,-85.28\"/>\n",
       "</g>\n",
       "<!-- 4828819808*&#45;&gt;4828819808 -->\n",
       "<g id=\"edge3\" class=\"edge\">\n",
       "<title>4828819808*&#45;&gt;4828819808</title>\n",
       "<path fill=\"none\" stroke=\"black\" d=\"M197.44,-101.5C205.65,-101.5 215.07,-101.5 224.63,-101.5\"/>\n",
       "<polygon fill=\"black\" stroke=\"black\" points=\"224.43,-105 234.43,-101.5 224.43,-98 224.43,-105\"/>\n",
       "</g>\n",
       "<!-- 4824822208 -->\n",
       "<g id=\"node10\" class=\"node\">\n",
       "<title>4824822208</title>\n",
       "<polygon fill=\"none\" stroke=\"black\" points=\"467.5,-0.5 467.5,-36.5 572.25,-36.5 572.25,-0.5 467.5,-0.5\"/>\n",
       "<text text-anchor=\"middle\" x=\"477.75\" y=\"-13.7\" font-family=\"Times,serif\" font-size=\"14.00\">f</text>\n",
       "<polyline fill=\"none\" stroke=\"black\" points=\"488,-1 488,-36.5\"/>\n",
       "<text text-anchor=\"middle\" x=\"530.12\" y=\"-13.7\" font-family=\"Times,serif\" font-size=\"14.00\">data &#45;2.0000</text>\n",
       "</g>\n",
       "<!-- 4824822208&#45;&gt;4824819376* -->\n",
       "<g id=\"edge9\" class=\"edge\">\n",
       "<title>4824822208&#45;&gt;4824819376*</title>\n",
       "<path fill=\"none\" stroke=\"black\" d=\"M571.92,-30.66C581,-32.82 590.26,-35.02 598.78,-37.05\"/>\n",
       "<polygon fill=\"black\" stroke=\"black\" points=\"597.93,-40.69 608.47,-39.6 599.56,-33.88 597.93,-40.69\"/>\n",
       "</g>\n",
       "</g>\n",
       "</svg>\n"
      ],
      "text/plain": [
       "<graphviz.graphs.Digraph at 0x11fd69270>"
      ]
     },
     "execution_count": 49,
     "metadata": {},
     "output_type": "execute_result"
    }
   ],
   "source": [
    "draw_dot(L)"
   ]
  },
  {
   "cell_type": "code",
   "execution_count": null,
   "metadata": {},
   "outputs": [],
   "source": []
  }
 ],
 "metadata": {
  "kernelspec": {
   "display_name": "Python 3",
   "language": "python",
   "name": "python3"
  },
  "language_info": {
   "codemirror_mode": {
    "name": "ipython",
    "version": 3
   },
   "file_extension": ".py",
   "mimetype": "text/x-python",
   "name": "python",
   "nbconvert_exporter": "python",
   "pygments_lexer": "ipython3",
   "version": "3.10.8"
  },
  "orig_nbformat": 4
 },
 "nbformat": 4,
 "nbformat_minor": 2
}
